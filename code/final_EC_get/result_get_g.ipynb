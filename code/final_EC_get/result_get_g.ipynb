{
 "cells": [
  {
   "cell_type": "code",
   "execution_count": 2,
   "id": "initial_id",
   "metadata": {
    "collapsed": true,
    "ExecuteTime": {
     "end_time": "2024-01-04T08:45:36.386164300Z",
     "start_time": "2024-01-04T08:45:32.672054800Z"
    }
   },
   "outputs": [],
   "source": [
    "from torchsummary import summary\n",
    "import pandas as  pd\n",
    "import numpy as np\n",
    "import torch\n",
    "import torch.nn as nn\n",
    "import matplotlib.pyplot as plt\n",
    "import numpy\n",
    "import math\n",
    "from torch.nn import Parameter\n",
    "#from keras.utils import to_categorical\n",
    "import torch.optim as optim\n",
    "from torch.utils.data import DataLoader, TensorDataset\n",
    "from sklearn.metrics import accuracy_score,f1_score\n",
    "from imblearn.over_sampling import SMOTE\n",
    "import torch.nn.functional as F\n",
    "from sklearn.metrics import precision_recall_curve, auc\n",
    "from sklearn.metrics import roc_auc_score\n",
    "#acc = accuracy_score(test_Y1, predicted1)"
   ]
  },
  {
   "cell_type": "code",
   "execution_count": 52,
   "outputs": [],
   "source": [
    "a = pd.read_csv('1iso.csv')\n",
    "b = pd.read_csv('2iso.csv')\n",
    "c = pd.read_csv('3iso.csv')\n",
    "d = pd.read_csv('4iso.csv')\n",
    "e = pd.read_csv('5iso.csv')"
   ],
   "metadata": {
    "collapsed": false,
    "ExecuteTime": {
     "end_time": "2024-01-04T08:54:18.664697500Z",
     "start_time": "2024-01-04T08:54:18.652728100Z"
    }
   },
   "id": "3b7ef24d4d198921"
  },
  {
   "cell_type": "code",
   "execution_count": 53,
   "outputs": [
    {
     "name": "stdout",
     "output_type": "stream",
     "text": [
      "           id  ec_label  predicted\n",
      "0      Q9Z1J2        32         32\n",
      "1    A8MQ27-2        32         32\n",
      "2    A8MQ27-3       115        115\n",
      "3    D0EZM8-2       115        115\n",
      "4    D0EZM8-3       102        102\n",
      "..        ...       ...        ...\n",
      "400    Q9Y697        16         16\n",
      "401  Q9Y6K1-2        66         66\n",
      "402  Q9Y6M4-5        11         11\n",
      "403  Q9Y6P5-2        87         87\n",
      "404  Q9Y6W6-2        66         66\n",
      "\n",
      "[2027 rows x 3 columns]\n"
     ]
    }
   ],
   "source": [
    "# 使用concat函数拼接数据框\n",
    "result = pd.concat([a, b,c,d,e])\n",
    "search = result.loc[result['predicted'] == 0]\n",
    "print(result)"
   ],
   "metadata": {
    "collapsed": false,
    "ExecuteTime": {
     "end_time": "2024-01-04T08:54:18.959777700Z",
     "start_time": "2024-01-04T08:54:18.951238Z"
    }
   },
   "id": "956efd4b96b2dd8e"
  },
  {
   "cell_type": "code",
   "execution_count": 54,
   "outputs": [
    {
     "name": "stdout",
     "output_type": "stream",
     "text": [
      "0.9684262456832757\n",
      "0.884030150149894\n"
     ]
    }
   ],
   "source": [
    "acc = accuracy_score(result['ec_label'], result['predicted'])\n",
    "f1ma = f1_score(result['ec_label'], result['predicted'], average='macro')\n",
    "print(acc)\n",
    "print(f1ma)"
   ],
   "metadata": {
    "collapsed": false,
    "ExecuteTime": {
     "end_time": "2024-01-04T08:54:20.131330700Z",
     "start_time": "2024-01-04T08:54:20.119363200Z"
    }
   },
   "id": "4ba411c5940e5dc9"
  },
  {
   "cell_type": "code",
   "execution_count": 55,
   "outputs": [],
   "source": [
    "result['level0_ec'] = 1\n",
    "result['predicted_y'] = 1"
   ],
   "metadata": {
    "collapsed": false,
    "ExecuteTime": {
     "end_time": "2024-01-04T08:54:28.958023700Z",
     "start_time": "2024-01-04T08:54:28.949048100Z"
    }
   },
   "id": "e11ed2d67465f832"
  },
  {
   "cell_type": "code",
   "execution_count": 56,
   "outputs": [],
   "source": [
    "# 将predicted_x为0的行的predicted_x的值改为888\n",
    "result['predicted_x'] = result['predicted']\n",
    "result.loc[result['predicted_y'] == 0, 'predicted_x'] = 888"
   ],
   "metadata": {
    "collapsed": false,
    "ExecuteTime": {
     "end_time": "2024-01-04T08:54:31.822513400Z",
     "start_time": "2024-01-04T08:54:31.812540500Z"
    }
   },
   "id": "57975c1f268e887e"
  },
  {
   "cell_type": "code",
   "execution_count": 57,
   "outputs": [
    {
     "name": "stdout",
     "output_type": "stream",
     "text": [
      "           id  ec_label  predicted  level0_ec  predicted_y  predicted_x\n",
      "0      Q9Z1J2        32         32          1            1           32\n",
      "1    A8MQ27-2        32         32          1            1           32\n",
      "2    A8MQ27-3       115        115          1            1          115\n",
      "3    D0EZM8-2       115        115          1            1          115\n",
      "4    D0EZM8-3       102        102          1            1          102\n",
      "..        ...       ...        ...        ...          ...          ...\n",
      "400    Q9Y697        16         16          1            1           16\n",
      "401  Q9Y6K1-2        66         66          1            1           66\n",
      "402  Q9Y6M4-5        11         11          1            1           11\n",
      "403  Q9Y6P5-2        87         87          1            1           87\n",
      "404  Q9Y6W6-2        66         66          1            1           66\n",
      "\n",
      "[2027 rows x 6 columns]\n"
     ]
    }
   ],
   "source": [
    "print(result)"
   ],
   "metadata": {
    "collapsed": false,
    "ExecuteTime": {
     "end_time": "2024-01-04T08:54:32.810351500Z",
     "start_time": "2024-01-04T08:54:32.803370100Z"
    }
   },
   "id": "ca82d442793fd4f5"
  },
  {
   "cell_type": "code",
   "execution_count": 58,
   "outputs": [
    {
     "name": "stdout",
     "output_type": "stream",
     "text": [
      "0.9684262456832757\n",
      "0.884030150149894\n"
     ]
    }
   ],
   "source": [
    "acc = accuracy_score(result['ec_label'], result['predicted_x'])\n",
    "f1ma = f1_score(result['ec_label'], result['predicted_x'], average='macro')\n",
    "print(acc)\n",
    "print(f1ma)"
   ],
   "metadata": {
    "collapsed": false,
    "ExecuteTime": {
     "end_time": "2024-01-04T08:54:33.809619700Z",
     "start_time": "2024-01-04T08:54:33.798692800Z"
    }
   },
   "id": "ffbc1d553a380b90"
  },
  {
   "cell_type": "code",
   "execution_count": 45,
   "outputs": [
    {
     "name": "stdout",
     "output_type": "stream",
     "text": [
      "160 2.7.2.8\n"
     ]
    }
   ],
   "source": [
    "dict_ec_label = np.load('ec_dict_level4.npy', allow_pickle=True).item()\n",
    "for key, value in dict_ec_label.items():\n",
    "    if value == '2.7.2.8':\n",
    "        print(key, value)"
   ],
   "metadata": {
    "collapsed": false,
    "ExecuteTime": {
     "end_time": "2024-01-04T08:53:21.057497100Z",
     "start_time": "2024-01-04T08:53:21.049518500Z"
    }
   },
   "id": "bf4353f8f24d2b10"
  },
  {
   "cell_type": "code",
   "execution_count": 59,
   "outputs": [
    {
     "name": "stdout",
     "output_type": "stream",
     "text": [
      "           id  ec_label  predicted  level0_ec  predicted_y  predicted_x  \\\n",
      "0      Q9Z1J2        32         32          1            1           32   \n",
      "1    A8MQ27-2        32         32          1            1           32   \n",
      "2    A8MQ27-3       115        115          1            1          115   \n",
      "3    D0EZM8-2       115        115          1            1          115   \n",
      "4    D0EZM8-3       102        102          1            1          102   \n",
      "..        ...       ...        ...        ...          ...          ...   \n",
      "400    Q9Y697        16         16          1            1           16   \n",
      "401  Q9Y6K1-2        66         66          1            1           66   \n",
      "402  Q9Y6M4-5        11         11          1            1           11   \n",
      "403  Q9Y6P5-2        87         87          1            1           87   \n",
      "404  Q9Y6W6-2        66         66          1            1           66   \n",
      "\n",
      "    predicted_level4 ec_number  \n",
      "0           2.3.2.26  2.3.2.26  \n",
      "1           2.3.2.26  2.3.2.26  \n",
      "2           3.6.1.23  3.6.1.23  \n",
      "3           3.6.1.23  3.6.1.23  \n",
      "4           3.2.2.27  3.2.2.27  \n",
      "..               ...       ...  \n",
      "400         1.17.4.1  1.17.4.1  \n",
      "401         2.7.10.2  2.7.10.2  \n",
      "402         1.11.1.7  1.11.1.7  \n",
      "403         3.1.3.16  3.1.3.16  \n",
      "404         2.7.10.2  2.7.10.2  \n",
      "\n",
      "[2027 rows x 8 columns]\n"
     ]
    }
   ],
   "source": [
    "dict_ec_label = np.load('iso_ec_dict.npy', allow_pickle=True).item()\n",
    "#t['ec'] = t.ec_label.apply(lambda x: dict_ec_label.get(x))\n",
    "result['predicted_level4'] = result.predicted_x.apply(lambda x: dict_ec_label.get(x))\n",
    "result['ec_number'] = result.ec_label.apply(lambda x: dict_ec_label.get(x))\n",
    "print(result)"
   ],
   "metadata": {
    "collapsed": false,
    "ExecuteTime": {
     "end_time": "2024-01-04T08:54:39.214787Z",
     "start_time": "2024-01-04T08:54:39.197832500Z"
    }
   },
   "id": "70a5b0b4bda490c1"
  },
  {
   "cell_type": "code",
   "execution_count": 61,
   "outputs": [
    {
     "name": "stdout",
     "output_type": "stream",
     "text": [
      "第一层的预测正确率为: 98.57%\n",
      "F1 分数（加权）: 0.9857\n"
     ]
    }
   ],
   "source": [
    "# 用空字符串填充缺失值\n",
    "result['ec_number'] = result['ec_number'].fillna('0.0.0.0')\n",
    "result['predicted_level4'] = result['predicted_level4'].fillna('0.0.0.0')\n",
    "# 分割 EC 号的每一层\n",
    "result['ec_first_layer'] = result['ec_number'].apply(lambda x: x.split('.')[0])\n",
    "result['prediction_first_layer'] = result['predicted_level4'].apply(lambda x: x.split('.')[0])\n",
    "# 比较原始 EC 号和预测 EC 号的第一层是否相同\n",
    "# 将predicted_x为0的行的rediction_first_layer的值改为0.0.0.0\n",
    "result.loc[result['predicted_y'] == 0, 'rediction_first_layer'] = '0.0.0.0'\n",
    "result['first_layer_correct'] = result['ec_first_layer'] == result['prediction_first_layer']\n",
    "# 计算预测正确的比例\n",
    "first_layer_accuracy = result['first_layer_correct'].mean()\n",
    "print(f\"第一层的预测正确率为: {first_layer_accuracy * 100:.2f}%\")\n",
    "f1 = f1_score(result['ec_first_layer'], result['prediction_first_layer'], average='weighted')\n",
    "print(f\"F1 分数（加权）: {f1:.4f}\")"
   ],
   "metadata": {
    "collapsed": false,
    "ExecuteTime": {
     "end_time": "2024-01-04T08:54:40.954209400Z",
     "start_time": "2024-01-04T08:54:40.918306500Z"
    }
   },
   "id": "fc953fa8602e1fd3"
  },
  {
   "cell_type": "markdown",
   "source": [],
   "metadata": {
    "collapsed": false
   },
   "id": "2f4ed5509b9380d6"
  },
  {
   "cell_type": "code",
   "execution_count": 62,
   "outputs": [
    {
     "name": "stdout",
     "output_type": "stream",
     "text": [
      "第一层和第二层都正确的预测准确率为: 98.08%\n",
      "第一层和第二层都正确的 F1 分数（加权）: 0.9805\n"
     ]
    }
   ],
   "source": [
    "# 分割 EC 号的第二层\n",
    "result['ec_second_layer'] = result['ec_number'].apply(lambda x: x.split('.')[1] if len(x.split('.')) > 1 else '')\n",
    "result['prediction_second_layer'] = result['predicted_level4'].apply(lambda x: x.split('.')[1] if len(x.split('.')) > 1 else '')\n",
    "\n",
    "# 比较原始 EC 号和预测 EC 号的第一层和第二层是否都相同\n",
    "result['first_and_second_layer_correct'] = (result['ec_first_layer'] == result['prediction_first_layer']) & (result['ec_second_layer'] == result['prediction_second_layer'])\n",
    "\n",
    "# 计算第一层和第二层都正确的准确率\n",
    "first_and_second_layer_accuracy = result['first_and_second_layer_correct'].mean()\n",
    "print(f\"第一层和第二层都正确的预测准确率为: {first_and_second_layer_accuracy * 100:.2f}%\")\n",
    "# 合并第一层和第二层的 EC 号作为新的标签\n",
    "result['ec_combined'] = result['ec_first_layer'] + '.' + result['ec_second_layer']\n",
    "result['prediction_combined'] = result['prediction_first_layer'] + '.' + result['prediction_second_layer']\n",
    "# 计算 F1 分数\n",
    "f1_combined = f1_score(result['ec_combined'], result['prediction_combined'], average='weighted')\n",
    "print(f\"第一层和第二层都正确的 F1 分数（加权）: {f1_combined:.4f}\")"
   ],
   "metadata": {
    "collapsed": false,
    "ExecuteTime": {
     "end_time": "2024-01-04T08:54:52.003425100Z",
     "start_time": "2024-01-04T08:54:51.971981900Z"
    }
   },
   "id": "5d7e16667bcbffd4"
  },
  {
   "cell_type": "code",
   "execution_count": 63,
   "outputs": [
    {
     "name": "stdout",
     "output_type": "stream",
     "text": [
      "第一层、第二层和第三层都正确的预测准确率为: 96.99%\n",
      "第一层、第二层和第三层都正确的 F1 分数（加权）: 0.9695\n"
     ]
    }
   ],
   "source": [
    "# 分割 EC 号的第三层\n",
    "result['ec_third_layer'] = result['ec_number'].apply(lambda x: x.split('.')[2] if len(x.split('.')) > 2 else '')\n",
    "result['prediction_third_layer'] = result['predicted_level4'].apply(lambda x: x.split('.')[2] if len(x.split('.')) > 2 else '')\n",
    "\n",
    "# 比较原始 EC 号和预测 EC 号的第一层、第二层和第三层是否都相同\n",
    "result['first_second_third_layer_correct'] = (result['ec_first_layer'] == result['prediction_first_layer']) & \\\n",
    "                                             (result['ec_second_layer'] == result['prediction_second_layer']) & \\\n",
    "                                             (result['ec_third_layer'] == result['prediction_third_layer'])\n",
    "\n",
    "# 计算第一层、第二层和第三层都正确的准确率\n",
    "first_second_third_layer_accuracy = result['first_second_third_layer_correct'].mean()\n",
    "print(f\"第一层、第二层和第三层都正确的预测准确率为: {first_second_third_layer_accuracy * 100:.2f}%\")\n",
    "# 合并第一层、第二层和第三层的 EC 号作为新的标签\n",
    "result['ec_combined_layers'] = result['ec_first_layer'] + '.' + result['ec_second_layer'] + '.' + result['ec_third_layer']\n",
    "result['prediction_combined_layers'] = result['prediction_first_layer'] + '.' + result['prediction_second_layer'] + '.' + result['prediction_third_layer']\n",
    "# 计算 F1 分数\n",
    "f1_combined_layers = f1_score(result['ec_combined_layers'], result['prediction_combined_layers'], average='weighted')\n",
    "print(f\"第一层、第二层和第三层都正确的 F1 分数（加权）: {f1_combined_layers:.4f}\")"
   ],
   "metadata": {
    "collapsed": false,
    "ExecuteTime": {
     "end_time": "2024-01-04T08:54:53.673516300Z",
     "start_time": "2024-01-04T08:54:53.640533300Z"
    }
   },
   "id": "31892fe47c957e2d"
  },
  {
   "cell_type": "code",
   "execution_count": 51,
   "outputs": [
    {
     "name": "stdout",
     "output_type": "stream",
     "text": [
      "           id  ec_label  predicted  level0_ec  predicted_y  predicted_x  \\\n",
      "0      Q9Z1J2        32         32          1            1           32   \n",
      "1    A8MQ27-2        32         32          1            1           32   \n",
      "2    A8MQ27-3       115        115          1            1          115   \n",
      "3    D0EZM8-2       115        115          1            1          115   \n",
      "4    D0EZM8-3       102        102          1            1          102   \n",
      "..        ...       ...        ...        ...          ...          ...   \n",
      "400    Q9Y697        16         16          1            1           16   \n",
      "401  Q9Y6K1-2        66         66          1            1           66   \n",
      "402  Q9Y6M4-5        11         11          1            1           11   \n",
      "403  Q9Y6P5-2        87         87          1            1           87   \n",
      "404  Q9Y6W6-2        66         66          1            1           66   \n",
      "\n",
      "    predicted_level4 ec_number ec_first_layer prediction_first_layer  ...  \\\n",
      "0           2.3.2.26  2.3.2.26              2                      2  ...   \n",
      "1           2.3.2.26  2.3.2.26              2                      2  ...   \n",
      "2           3.6.1.23  3.6.1.23              3                      3  ...   \n",
      "3           3.6.1.23  3.6.1.23              3                      3  ...   \n",
      "4           3.2.2.27  3.2.2.27              3                      3  ...   \n",
      "..               ...       ...            ...                    ...  ...   \n",
      "400         1.17.4.1  1.17.4.1              1                      1  ...   \n",
      "401         2.7.10.2  2.7.10.2              2                      2  ...   \n",
      "402         1.11.1.7  1.11.1.7              1                      1  ...   \n",
      "403         3.1.3.16  3.1.3.16              3                      3  ...   \n",
      "404         2.7.10.2  2.7.10.2              2                      2  ...   \n",
      "\n",
      "    ec_second_layer  prediction_second_layer first_and_second_layer_correct  \\\n",
      "0                 3                        3                           True   \n",
      "1                 3                        3                           True   \n",
      "2                 6                        6                           True   \n",
      "3                 6                        6                           True   \n",
      "4                 2                        2                           True   \n",
      "..              ...                      ...                            ...   \n",
      "400              17                       17                           True   \n",
      "401               7                        7                           True   \n",
      "402              11                       11                           True   \n",
      "403               1                        1                           True   \n",
      "404               7                        7                           True   \n",
      "\n",
      "    ec_combined  prediction_combined ec_third_layer prediction_third_layer  \\\n",
      "0           2.3                  2.3              2                      2   \n",
      "1           2.3                  2.3              2                      2   \n",
      "2           3.6                  3.6              1                      1   \n",
      "3           3.6                  3.6              1                      1   \n",
      "4           3.2                  3.2              2                      2   \n",
      "..          ...                  ...            ...                    ...   \n",
      "400        1.17                 1.17              4                      4   \n",
      "401         2.7                  2.7             10                     10   \n",
      "402        1.11                 1.11              1                      1   \n",
      "403         3.1                  3.1              3                      3   \n",
      "404         2.7                  2.7             10                     10   \n",
      "\n",
      "    first_second_third_layer_correct ec_combined_layers  \\\n",
      "0                               True              2.3.2   \n",
      "1                               True              2.3.2   \n",
      "2                               True              3.6.1   \n",
      "3                               True              3.6.1   \n",
      "4                               True              3.2.2   \n",
      "..                               ...                ...   \n",
      "400                             True             1.17.4   \n",
      "401                             True             2.7.10   \n",
      "402                             True             1.11.1   \n",
      "403                             True              3.1.3   \n",
      "404                             True             2.7.10   \n",
      "\n",
      "     prediction_combined_layers  \n",
      "0                         2.3.2  \n",
      "1                         2.3.2  \n",
      "2                         3.6.1  \n",
      "3                         3.6.1  \n",
      "4                         3.2.2  \n",
      "..                          ...  \n",
      "400                      1.17.4  \n",
      "401                      2.7.10  \n",
      "402                      1.11.1  \n",
      "403                       3.1.3  \n",
      "404                      2.7.10  \n",
      "\n",
      "[2027 rows x 22 columns]\n"
     ]
    }
   ],
   "source": [
    "print(result)"
   ],
   "metadata": {
    "collapsed": false,
    "ExecuteTime": {
     "end_time": "2024-01-04T08:53:44.045255Z",
     "start_time": "2024-01-04T08:53:44.023330700Z"
    }
   },
   "id": "9dab55d66c4e7355"
  },
  {
   "cell_type": "code",
   "execution_count": 106,
   "outputs": [],
   "source": [
    "result.to_csv('result_final_1121.csv',index=False)"
   ],
   "metadata": {
    "collapsed": false,
    "ExecuteTime": {
     "end_time": "2023-11-21T05:56:11.302833200Z",
     "start_time": "2023-11-21T05:56:11.152237200Z"
    }
   },
   "id": "ac7fcefed91456cc"
  },
  {
   "cell_type": "code",
   "execution_count": null,
   "outputs": [],
   "source": [],
   "metadata": {
    "collapsed": false
   },
   "id": "ec1e2985fb5fea17"
  }
 ],
 "metadata": {
  "kernelspec": {
   "display_name": "Python 3",
   "language": "python",
   "name": "python3"
  },
  "language_info": {
   "codemirror_mode": {
    "name": "ipython",
    "version": 2
   },
   "file_extension": ".py",
   "mimetype": "text/x-python",
   "name": "python",
   "nbconvert_exporter": "python",
   "pygments_lexer": "ipython2",
   "version": "2.7.6"
  }
 },
 "nbformat": 4,
 "nbformat_minor": 5
}
